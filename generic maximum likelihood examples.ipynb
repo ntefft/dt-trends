{
 "cells": [
  {
   "cell_type": "code",
   "execution_count": 13,
   "metadata": {},
   "outputs": [],
   "source": [
    "# code drawn from http://www.statsmodels.org/dev/examples/notebooks/generated/generic_mle.html\n",
    "\n",
    "from __future__ import print_function\n",
    "import numpy as np\n",
    "from scipy import stats\n",
    "from scipy.stats import nbinom\n",
    "import statsmodels.api as sm\n",
    "from statsmodels.base.model import GenericLikelihoodModel"
   ]
  },
  {
   "cell_type": "code",
   "execution_count": 2,
   "metadata": {},
   "outputs": [
    {
     "name": "stdout",
     "output_type": "stream",
     "text": [
      "::\n",
      "\n",
      "    Number of Observations - 32\n",
      "\n",
      "    Number of Variables - 4\n",
      "\n",
      "    Variable name definitions::\n",
      "\n",
      "        Grade - binary variable indicating whether or not a student's grade\n",
      "                improved.  1 indicates an improvement.\n",
      "        TUCE  - Test score on economics test\n",
      "        PSI   - participation in program\n",
      "        GPA   - Student's grade point average\n",
      "\n",
      "    GPA  TUCE  PSI\n",
      "0  2.66  20.0  0.0\n",
      "1  2.89  22.0  0.0\n",
      "2  3.28  24.0  0.0\n",
      "3  2.92  12.0  0.0\n",
      "4  4.00  21.0  0.0\n"
     ]
    }
   ],
   "source": [
    "data = sm.datasets.spector.load_pandas()\n",
    "exog = data.exog\n",
    "endog = data.endog\n",
    "print(sm.datasets.spector.NOTE)\n",
    "print(data.exog.head())"
   ]
  },
  {
   "cell_type": "code",
   "execution_count": 7,
   "metadata": {},
   "outputs": [
    {
     "name": "stdout",
     "output_type": "stream",
     "text": [
      "    GPA  TUCE  PSI\n",
      "0  2.66  20.0  0.0\n",
      "1  2.89  22.0  0.0\n",
      "2  3.28  24.0  0.0\n",
      "3  2.92  12.0  0.0\n",
      "4  4.00  21.0  0.0\n"
     ]
    }
   ],
   "source": [
    "exog = sm.add_constant(exog, prepend=True)\n",
    "print(data.exog.head())"
   ]
  },
  {
   "cell_type": "code",
   "execution_count": 8,
   "metadata": {},
   "outputs": [],
   "source": [
    "class MyProbit(GenericLikelihoodModel):\n",
    "    def loglike(self, params):\n",
    "        exog = self.exog\n",
    "        endog = self.endog\n",
    "        q = 2 * endog - 1\n",
    "        return stats.norm.logcdf(q*np.dot(exog, params)).sum()"
   ]
  },
  {
   "cell_type": "code",
   "execution_count": 9,
   "metadata": {},
   "outputs": [
    {
     "name": "stdout",
     "output_type": "stream",
     "text": [
      "Optimization terminated successfully.\n",
      "         Current function value: 0.400588\n",
      "         Iterations: 292\n",
      "         Function evaluations: 494\n",
      "                               MyProbit Results                               \n",
      "==============================================================================\n",
      "Dep. Variable:                  GRADE   Log-Likelihood:                -12.819\n",
      "Model:                       MyProbit   AIC:                             33.64\n",
      "Method:            Maximum Likelihood   BIC:                             39.50\n",
      "Date:                Wed, 15 May 2019                                         \n",
      "Time:                        14:24:20                                         \n",
      "No. Observations:                  32                                         \n",
      "Df Residuals:                      28                                         \n",
      "Df Model:                           3                                         \n",
      "==============================================================================\n",
      "                 coef    std err          z      P>|z|      [0.025      0.975]\n",
      "------------------------------------------------------------------------------\n",
      "const         -7.4523      2.542     -2.931      0.003     -12.435      -2.469\n",
      "GPA            1.6258      0.694      2.343      0.019       0.266       2.986\n",
      "TUCE           0.0517      0.084      0.617      0.537      -0.113       0.216\n",
      "PSI            1.4263      0.595      2.397      0.017       0.260       2.593\n",
      "==============================================================================\n"
     ]
    }
   ],
   "source": [
    "sm_probit_manual = MyProbit(endog, exog).fit()\n",
    "print(sm_probit_manual.summary())"
   ]
  },
  {
   "cell_type": "code",
   "execution_count": 10,
   "metadata": {},
   "outputs": [
    {
     "name": "stdout",
     "output_type": "stream",
     "text": [
      "Optimization terminated successfully.\n",
      "         Current function value: 0.400588\n",
      "         Iterations 6\n"
     ]
    }
   ],
   "source": [
    "sm_probit_canned = sm.Probit(endog, exog).fit()"
   ]
  },
  {
   "cell_type": "code",
   "execution_count": 12,
   "metadata": {},
   "outputs": [
    {
     "name": "stdout",
     "output_type": "stream",
     "text": [
      "const   -7.452320\n",
      "GPA      1.625810\n",
      "TUCE     0.051729\n",
      "PSI      1.426332\n",
      "dtype: float64\n",
      "[-7.45233176  1.62580888  0.05172971  1.42631954]\n"
     ]
    }
   ],
   "source": [
    "print(sm_probit_canned.params)\n",
    "print(sm_probit_manual.params)"
   ]
  },
  {
   "cell_type": "code",
   "execution_count": 14,
   "metadata": {},
   "outputs": [],
   "source": [
    "def _ll_nb2(y, X, beta, alph):\n",
    "    mu = np.exp(np.dot(X, beta))\n",
    "    size = 1/alph\n",
    "    prob = size/(size+mu)\n",
    "    ll = nbinom.logpmf(y, size, prob)\n",
    "    return ll"
   ]
  },
  {
   "cell_type": "code",
   "execution_count": 15,
   "metadata": {},
   "outputs": [],
   "source": [
    "from statsmodels.base.model import GenericLikelihoodModel"
   ]
  },
  {
   "cell_type": "code",
   "execution_count": 17,
   "metadata": {},
   "outputs": [],
   "source": [
    "class NBin(GenericLikelihoodModel):\n",
    "    def __init__(self, endog, exog, **kwds):\n",
    "        super(NBin, self).__init__(endog, exog, **kwds)\n",
    "        \n",
    "    def nloglikeobs(self, params):\n",
    "        alph = params[-1]\n",
    "        beta = params[:-1]\n",
    "        ll = _ll_nb2(self.endog, self.exog, beta, alph)\n",
    "        return -ll \n",
    "    \n",
    "    def fit(self, start_params=None, maxiter=10000, maxfun=5000, **kwds):\n",
    "        # we have one additional parameter and we need to add it for summary\n",
    "        self.exog_names.append('alpha')\n",
    "        if start_params == None:\n",
    "            # Reasonable starting values\n",
    "            start_params = np.append(np.zeros(self.exog.shape[1]), .5)\n",
    "            # intercept\n",
    "            start_params[-2] = np.log(self.endog.mean())\n",
    "        return super(NBin, self).fit(start_params=start_params, \n",
    "                                     maxiter=maxiter, maxfun=maxfun, \n",
    "                                     **kwds) "
   ]
  },
  {
   "cell_type": "code",
   "execution_count": 18,
   "metadata": {},
   "outputs": [],
   "source": [
    "import statsmodels.api as sm"
   ]
  },
  {
   "cell_type": "code",
   "execution_count": 19,
   "metadata": {},
   "outputs": [
    {
     "data": {
      "text/html": [
       "<div>\n",
       "<style scoped>\n",
       "    .dataframe tbody tr th:only-of-type {\n",
       "        vertical-align: middle;\n",
       "    }\n",
       "\n",
       "    .dataframe tbody tr th {\n",
       "        vertical-align: top;\n",
       "    }\n",
       "\n",
       "    .dataframe thead th {\n",
       "        text-align: right;\n",
       "    }\n",
       "</style>\n",
       "<table border=\"1\" class=\"dataframe\">\n",
       "  <thead>\n",
       "    <tr style=\"text-align: right;\">\n",
       "      <th></th>\n",
       "      <th>los</th>\n",
       "      <th>hmo</th>\n",
       "      <th>white</th>\n",
       "      <th>died</th>\n",
       "      <th>age80</th>\n",
       "      <th>type</th>\n",
       "      <th>type1</th>\n",
       "      <th>type2</th>\n",
       "      <th>type3</th>\n",
       "      <th>provnum</th>\n",
       "    </tr>\n",
       "  </thead>\n",
       "  <tbody>\n",
       "    <tr>\n",
       "      <th>0</th>\n",
       "      <td>4</td>\n",
       "      <td>0</td>\n",
       "      <td>1</td>\n",
       "      <td>0</td>\n",
       "      <td>0</td>\n",
       "      <td>1</td>\n",
       "      <td>1</td>\n",
       "      <td>0</td>\n",
       "      <td>0</td>\n",
       "      <td>30001</td>\n",
       "    </tr>\n",
       "    <tr>\n",
       "      <th>1</th>\n",
       "      <td>9</td>\n",
       "      <td>1</td>\n",
       "      <td>1</td>\n",
       "      <td>0</td>\n",
       "      <td>0</td>\n",
       "      <td>1</td>\n",
       "      <td>1</td>\n",
       "      <td>0</td>\n",
       "      <td>0</td>\n",
       "      <td>30001</td>\n",
       "    </tr>\n",
       "    <tr>\n",
       "      <th>2</th>\n",
       "      <td>3</td>\n",
       "      <td>1</td>\n",
       "      <td>1</td>\n",
       "      <td>1</td>\n",
       "      <td>1</td>\n",
       "      <td>1</td>\n",
       "      <td>1</td>\n",
       "      <td>0</td>\n",
       "      <td>0</td>\n",
       "      <td>30001</td>\n",
       "    </tr>\n",
       "    <tr>\n",
       "      <th>3</th>\n",
       "      <td>9</td>\n",
       "      <td>0</td>\n",
       "      <td>1</td>\n",
       "      <td>0</td>\n",
       "      <td>0</td>\n",
       "      <td>1</td>\n",
       "      <td>1</td>\n",
       "      <td>0</td>\n",
       "      <td>0</td>\n",
       "      <td>30001</td>\n",
       "    </tr>\n",
       "    <tr>\n",
       "      <th>4</th>\n",
       "      <td>1</td>\n",
       "      <td>0</td>\n",
       "      <td>1</td>\n",
       "      <td>1</td>\n",
       "      <td>1</td>\n",
       "      <td>1</td>\n",
       "      <td>1</td>\n",
       "      <td>0</td>\n",
       "      <td>0</td>\n",
       "      <td>30001</td>\n",
       "    </tr>\n",
       "  </tbody>\n",
       "</table>\n",
       "</div>"
      ],
      "text/plain": [
       "   los  hmo  white  died  age80  type  type1  type2  type3  provnum\n",
       "0    4    0      1     0      0     1      1      0      0    30001\n",
       "1    9    1      1     0      0     1      1      0      0    30001\n",
       "2    3    1      1     1      1     1      1      0      0    30001\n",
       "3    9    0      1     0      0     1      1      0      0    30001\n",
       "4    1    0      1     1      1     1      1      0      0    30001"
      ]
     },
     "execution_count": 19,
     "metadata": {},
     "output_type": "execute_result"
    }
   ],
   "source": [
    "medpar = sm.datasets.get_rdataset(\"medpar\", \"COUNT\", cache=True).data\n",
    "\n",
    "medpar.head()"
   ]
  },
  {
   "cell_type": "code",
   "execution_count": 20,
   "metadata": {},
   "outputs": [],
   "source": [
    "y = medpar.los\n",
    "X = medpar[[\"type2\", \"type3\", \"hmo\", \"white\"]].copy()\n",
    "X[\"constant\"] = 1"
   ]
  },
  {
   "cell_type": "code",
   "execution_count": 21,
   "metadata": {},
   "outputs": [
    {
     "name": "stdout",
     "output_type": "stream",
     "text": [
      "Optimization terminated successfully.\n",
      "         Current function value: 3.209014\n",
      "         Iterations: 805\n",
      "         Function evaluations: 1238\n"
     ]
    }
   ],
   "source": [
    "mod = NBin(y, X)\n",
    "res = mod.fit()"
   ]
  },
  {
   "cell_type": "code",
   "execution_count": 22,
   "metadata": {},
   "outputs": [
    {
     "name": "stdout",
     "output_type": "stream",
     "text": [
      "Parameters:  [ 0.2212642   0.70613942 -0.06798155 -0.12903932  2.31026565  0.44575147]\n",
      "Standard errors:  [0.05059259 0.07613047 0.05326097 0.06854142 0.06794693 0.01981542]\n",
      "P-values:  [1.22298014e-005 1.76978678e-020 2.01819149e-001 5.97481775e-002\n",
      " 2.15113358e-253 4.62688810e-112]\n",
      "AIC:  9604.95320583016\n"
     ]
    }
   ],
   "source": [
    "print('Parameters: ', res.params)\n",
    "print('Standard errors: ', res.bse)\n",
    "print('P-values: ', res.pvalues)\n",
    "print('AIC: ', res.aic)"
   ]
  },
  {
   "cell_type": "code",
   "execution_count": 23,
   "metadata": {},
   "outputs": [
    {
     "name": "stdout",
     "output_type": "stream",
     "text": [
      "                                 NBin Results                                 \n",
      "==============================================================================\n",
      "Dep. Variable:                    los   Log-Likelihood:                -4797.5\n",
      "Model:                           NBin   AIC:                             9605.\n",
      "Method:            Maximum Likelihood   BIC:                             9632.\n",
      "Date:                Wed, 15 May 2019                                         \n",
      "Time:                        14:41:09                                         \n",
      "No. Observations:                1495                                         \n",
      "Df Residuals:                    1490                                         \n",
      "Df Model:                           4                                         \n",
      "==============================================================================\n",
      "                 coef    std err          z      P>|z|      [0.025      0.975]\n",
      "------------------------------------------------------------------------------\n",
      "type2          0.2213      0.051      4.373      0.000       0.122       0.320\n",
      "type3          0.7061      0.076      9.275      0.000       0.557       0.855\n",
      "hmo           -0.0680      0.053     -1.276      0.202      -0.172       0.036\n",
      "white         -0.1290      0.069     -1.883      0.060      -0.263       0.005\n",
      "constant       2.3103      0.068     34.001      0.000       2.177       2.443\n",
      "alpha          0.4458      0.020     22.495      0.000       0.407       0.485\n",
      "==============================================================================\n"
     ]
    }
   ],
   "source": [
    "print(res.summary())"
   ]
  }
 ],
 "metadata": {
  "kernelspec": {
   "display_name": "Python 3",
   "language": "python",
   "name": "python3"
  },
  "language_info": {
   "codemirror_mode": {
    "name": "ipython",
    "version": 3
   },
   "file_extension": ".py",
   "mimetype": "text/x-python",
   "name": "python",
   "nbconvert_exporter": "python",
   "pygments_lexer": "ipython3",
   "version": "3.7.3"
  }
 },
 "nbformat": 4,
 "nbformat_minor": 2
}
