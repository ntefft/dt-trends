{
 "cells": [
  {
   "cell_type": "code",
   "execution_count": 3,
   "metadata": {
    "run_control": {
     "marked": false
    }
   },
   "outputs": [],
   "source": [
    "import pandas as pd\n",
    "#import datadotworld as ddw\n",
    "import log_progress # https://github.com/alexanderkuk/log-progress\n",
    "import requests\n",
    "from dbfread import DBF\n",
    "import os\n",
    "from zipfile import ZipFile\n",
    "from ftplib import FTP\n",
    "import warnings\n",
    "import numpy as np\n",
    "warnings.filterwarnings(\"ignore\")"
   ]
  },
  {
   "cell_type": "code",
   "execution_count": 4,
   "metadata": {},
   "outputs": [],
   "source": [
    "pd.set_option('display.max_rows', 40)\n",
    "pd.set_option('display.max_columns', 500)\n",
    "pd.set_option('display.width', 1000)\n",
    "#pd.set_option('max_colwidth', 70)"
   ]
  },
  {
   "cell_type": "code",
   "execution_count": 5,
   "metadata": {},
   "outputs": [],
   "source": [
    "root = '/Users/ntefft'\n",
    "os.mkdir('%s/Desktop/FARS' % root)\n",
    "os.chdir('%s/Desktop/FARS' % root)"
   ]
  },
  {
   "cell_type": "code",
   "execution_count": 6,
   "metadata": {},
   "outputs": [
    {
     "data": {
      "text/plain": [
       "'230 User logged in.'"
      ]
     },
     "execution_count": 6,
     "metadata": {},
     "output_type": "execute_result"
    }
   ],
   "source": [
    "ftp = FTP('ftp.nhtsa.dot.gov')\n",
    "ftp.login()"
   ]
  },
  {
   "cell_type": "code",
   "execution_count": 7,
   "metadata": {
    "run_control": {
     "marked": false
    }
   },
   "outputs": [
    {
     "data": {
      "application/vnd.jupyter.widget-view+json": {
       "model_id": "6ac426b97bbf42ada53fba809bcb9e66",
       "version_major": 2,
       "version_minor": 0
      },
      "text/plain": [
       "VBox(children=(HTML(value=''), IntProgress(value=0, max=36)))"
      ]
     },
     "metadata": {},
     "output_type": "display_data"
    },
    {
     "name": "stdout",
     "output_type": "stream",
     "text": [
      "1985\n",
      "1990\n",
      "1995\n",
      "2000\n",
      "2005\n",
      "2010\n",
      "2015\n"
     ]
    }
   ],
   "source": [
    "\n",
    "for year in log_progress.log_progress(range(1982,2018)):\n",
    "    if os.getcwd() != '%s/Desktop/FARS' % root:\n",
    "        os.chdir('%s/Desktop/FARS' % root)\n",
    "    filename = \"f_%d.zip\" % year\n",
    "    if year < 2013:\n",
    "        ftp_path = '/FARS/%s/Auxiliary_FARS_Files/' % year\n",
    "        source_name = 'RETR Auxiliary_FARS_DBF_%s.ZIP' % year\n",
    "    elif (year == 2013) | (year == 2014):\n",
    "        ftp_path = '/fars/%s/National/' % year\n",
    "        source_name = 'RETR FARS%sNationalDBF.zip' % year\n",
    "    elif year > 2014:\n",
    "        ftp_path = '/fars/%s/National/' % year\n",
    "        source_name = 'RETR FARS%sNationalCSV.zip' % year\n",
    "    else:\n",
    "        print(\"problem\", year)\n",
    "    \n",
    "    \n",
    "    zfile = ZipFile(filename, 'w')\n",
    "    zfile.close()\n",
    "    \n",
    "    ftp.cwd(ftp_path)\n",
    "    \n",
    "    ftp.retrbinary(source_name, open('%s/Desktop/FARS/%s' % (root, filename), mode='ab').write)\n",
    "    ZipFile('f_%d.zip' % year, 'r').extractall('%s/Desktop/FARS/f_%s' % (root, year))\n",
    "    \n",
    "    if year % 5 == 0:\n",
    "        print(year)\n",
    "    "
   ]
  },
  {
   "cell_type": "code",
   "execution_count": 6,
   "metadata": {},
   "outputs": [],
   "source": [
    "for i in os.listdir():\n",
    "    if i.endswith('.zip'):\n",
    "        os.remove(i)\n",
    "\n",
    "file_names = os.listdir()\n",
    "file_names.sort()\n",
    "\n",
    "dirs = {i: os.listdir(i) for i in file_names[1:]}\n",
    "f_years = []\n",
    "for i, j in dirs.items():\n",
    "    if j[0] == 'FARS':\n",
    "        f_years.append(i)\n",
    "        dirs[i] = os.listdir('%s/FARS' % i)\n",
    "        dirs[i] = [\"%s_%s\" % (i, k) for k in dirs[i]] \n",
    "    else:\n",
    "        dirs[i] = [\"%s_%s\" % (i, k) for k in j]"
   ]
  },
  {
   "cell_type": "code",
   "execution_count": 7,
   "metadata": {},
   "outputs": [
    {
     "data": {
      "application/vnd.jupyter.widget-view+json": {
       "model_id": "e899d637a4ab485fbbec4a7d3d82658d",
       "version_major": 2,
       "version_minor": 0
      },
      "text/plain": [
       "VBox(children=(HTML(value=''), IntProgress(value=0, max=3)))"
      ]
     },
     "metadata": {},
     "output_type": "display_data"
    },
    {
     "data": {
      "application/vnd.jupyter.widget-view+json": {
       "model_id": "b00e3c2a96164b59850b29abc6e17223",
       "version_major": 2,
       "version_minor": 0
      },
      "text/plain": [
       "VBox(children=(HTML(value=''), IntProgress(value=0, max=33)))"
      ]
     },
     "metadata": {},
     "output_type": "display_data"
    },
    {
     "data": {
      "application/vnd.jupyter.widget-view+json": {
       "model_id": "d3083765cdad47258472a61717e446ee",
       "version_major": 2,
       "version_minor": 0
      },
      "text/plain": [
       "VBox(children=(HTML(value=''), IntProgress(value=0, max=33)))"
      ]
     },
     "metadata": {},
     "output_type": "display_data"
    },
    {
     "data": {
      "application/vnd.jupyter.widget-view+json": {
       "model_id": "29e0dd39135b4d39be5390a665f20215",
       "version_major": 2,
       "version_minor": 0
      },
      "text/plain": [
       "VBox(children=(HTML(value=''), IntProgress(value=0, max=33)))"
      ]
     },
     "metadata": {},
     "output_type": "display_data"
    }
   ],
   "source": [
    "keys = ['f_1982', 'f_1983', 'f_1984', 'f_1985', 'f_1986', 'f_1987', \n",
    "        'f_1988', 'f_1989', 'f_1990', 'f_1991', 'f_1992', 'f_1993', \n",
    "        'f_1994', 'f_1995', 'f_1996', 'f_1997', 'f_1998', 'f_1999', \n",
    "        'f_2000', 'f_2001', 'f_2002', 'f_2003', 'f_2004', 'f_2005', \n",
    "        'f_2006', 'f_2007', 'f_2008', 'f_2009', 'f_2010', 'f_2011', \n",
    "        'f_2012', 'f_2013', 'f_2014']\n",
    "names = ['VEH_AUX.dbf', 'PER_AUX.dbf', 'ACC_AUX.dbf']\n",
    "\n",
    "for name in log_progress.log_progress(names):\n",
    "    count = 0\n",
    "    for k in log_progress.log_progress(keys):\n",
    "        if k in f_years:\n",
    "            table = DBF('%s/FARS/%s' % (k,name), load=True)\n",
    "        else:\n",
    "            table = DBF('%s/%s' % (k,name), load=True)\n",
    "        table.load()\n",
    "        \n",
    "        if count == 0:\n",
    "            if name == 'VEH_AUX.dbf':\n",
    "                VEH_AUX = pd.DataFrame(table.records)\n",
    "            elif name == 'PER_AUX.dbf':\n",
    "                PER_AUX = pd.DataFrame(table.records)\n",
    "            elif name == 'ACC_AUX.dbf':\n",
    "                ACC_AUX = pd.DataFrame(table.records)\n",
    "        else:\n",
    "            if name == 'VEH_AUX.dbf':\n",
    "                VEH_AUX = pd.concat([VEH_AUX, pd.DataFrame(table.records)])\n",
    "            elif name == 'PER_AUX.dbf':\n",
    "                PER_AUX = pd.concat([PER_AUX, pd.DataFrame(table.records)])\n",
    "            elif name == 'ACC_AUX.dbf':\n",
    "                ACC_AUX = pd.concat([ACC_AUX, pd.DataFrame(table.records)])\n",
    "        count += 1\n",
    "        \n",
    "names = ['veh_aux.csv', 'per_aux.csv', 'acc_aux.csv']"
   ]
  },
  {
   "cell_type": "code",
   "execution_count": 8,
   "metadata": {},
   "outputs": [
    {
     "data": {
      "application/vnd.jupyter.widget-view+json": {
       "model_id": "a61d3eb88e2a4fa3bc01d58b7643a7ed",
       "version_major": 2,
       "version_minor": 0
      },
      "text/plain": [
       "VBox(children=(HTML(value=''), IntProgress(value=0, max=3)))"
      ]
     },
     "metadata": {},
     "output_type": "display_data"
    },
    {
     "data": {
      "application/vnd.jupyter.widget-view+json": {
       "model_id": "da5609c775714bd1bc61c6a1a1694437",
       "version_major": 2,
       "version_minor": 0
      },
      "text/plain": [
       "VBox(children=(HTML(value=''), IntProgress(value=0, max=3)))"
      ]
     },
     "metadata": {},
     "output_type": "display_data"
    },
    {
     "data": {
      "application/vnd.jupyter.widget-view+json": {
       "model_id": "886e068edfe54a2ea523f51691782dc5",
       "version_major": 2,
       "version_minor": 0
      },
      "text/plain": [
       "VBox(children=(HTML(value=''), IntProgress(value=0, max=3)))"
      ]
     },
     "metadata": {},
     "output_type": "display_data"
    },
    {
     "data": {
      "application/vnd.jupyter.widget-view+json": {
       "model_id": "42dc908cf2d1448c9bd911cf6d404216",
       "version_major": 2,
       "version_minor": 0
      },
      "text/plain": [
       "VBox(children=(HTML(value=''), IntProgress(value=0, max=3)))"
      ]
     },
     "metadata": {},
     "output_type": "display_data"
    }
   ],
   "source": [
    "for name in log_progress.log_progress(names):\n",
    "    for k in log_progress.log_progress(['f_2015', 'f_2016', 'f_2017']):\n",
    "        if name == 'veh_aux.csv':\n",
    "            df = pd.read_csv('%s/%s' % (k, name))\n",
    "            df = df[VEH_AUX.columns]\n",
    "            VEH_AUX = pd.concat([VEH_AUX, df])\n",
    "        elif name == 'per_aux.csv':\n",
    "            df = pd.read_csv('%s/%s' % (k, name))\n",
    "            if k == 'f_2015':\n",
    "                PER_AUX['A_RESTUSE'] = np.nan\n",
    "                PER_AUX['A_HELMUSE'] = np.nan\n",
    "            df['A_REST'] = np.nan\n",
    "            df = df[PER_AUX.columns]\n",
    "            PER_AUX = pd.concat([PER_AUX, df])\n",
    "        elif name == 'acc_aux.csv':\n",
    "            df = pd.read_csv('%s/%s' % (k, name))\n",
    "            df = df[ACC_AUX.columns]\n",
    "            ACC_AUX = pd.concat([ACC_AUX, df])\n"
   ]
  },
  {
   "cell_type": "code",
   "execution_count": 9,
   "metadata": {},
   "outputs": [
    {
     "name": "stdout",
     "output_type": "stream",
     "text": [
      "MBs: 256.17, 657.65, 421.52\n"
     ]
    }
   ],
   "source": [
    "print(\"MBs: %.2f, %.2f, %.2f\" % (VEH_AUX.memory_usage(deep=True).sum()/1024**2, PER_AUX.memory_usage(deep=True).sum()/1024**2, ACC_AUX.memory_usage(deep=True).sum()/1024**2))"
   ]
  },
  {
   "cell_type": "code",
   "execution_count": 10,
   "metadata": {},
   "outputs": [],
   "source": [
    "dataset = 'nrippner/fatality-analysis-reporting-system-fars-data-tables'\n",
    "with ddw.open_remote_file(dataset, 'VEH_AUX.csv', mode='w') as f:\n",
    "    VEH_AUX.to_csv(f, index=False)\n",
    "with ddw.open_remote_file(dataset, 'PER_AUX.csv', mode='w') as f:\n",
    "    PER_AUX.to_csv(f, index=False)\n",
    "with ddw.open_remote_file(dataset, 'ACC_AUX.csv', mode='w') as f:\n",
    "    ACC_AUX.to_csv(f, index=False)"
   ]
  },
  {
   "cell_type": "code",
   "execution_count": null,
   "metadata": {},
   "outputs": [],
   "source": []
  }
 ],
 "metadata": {
  "kernelspec": {
   "display_name": "Python 3",
   "language": "python",
   "name": "python3"
  },
  "language_info": {
   "codemirror_mode": {
    "name": "ipython",
    "version": 3
   },
   "file_extension": ".py",
   "mimetype": "text/x-python",
   "name": "python",
   "nbconvert_exporter": "python",
   "pygments_lexer": "ipython3",
   "version": "3.7.3"
  },
  "toc": {
   "colors": {
    "hover_highlight": "#DAA520",
    "navigate_num": "#000000",
    "navigate_text": "#333333",
    "running_highlight": "#FF0000",
    "selected_highlight": "#FFD700",
    "sidebar_border": "#EEEEEE",
    "wrapper_background": "#FFFFFF"
   },
   "moveMenuLeft": true,
   "nav_menu": {
    "height": "159px",
    "width": "252px"
   },
   "navigate_menu": true,
   "number_sections": false,
   "sideBar": false,
   "threshold": 4,
   "toc_cell": false,
   "toc_position": {
    "height": "419px",
    "left": "2px",
    "right": "20px",
    "top": "109px",
    "width": "212px"
   },
   "toc_section_display": "none",
   "toc_window_display": false,
   "widenNotebook": false
  },
  "varInspector": {
   "cols": {
    "lenName": 16,
    "lenType": 16,
    "lenVar": 40
   },
   "kernels_config": {
    "python": {
     "delete_cmd_postfix": "",
     "delete_cmd_prefix": "del ",
     "library": "var_list.py",
     "varRefreshCmd": "print(var_dic_list())"
    },
    "r": {
     "delete_cmd_postfix": ") ",
     "delete_cmd_prefix": "rm(",
     "library": "var_list.r",
     "varRefreshCmd": "cat(var_dic_list()) "
    }
   },
   "types_to_exclude": [
    "module",
    "function",
    "builtin_function_or_method",
    "instance",
    "_Feature"
   ],
   "window_display": false
  }
 },
 "nbformat": 4,
 "nbformat_minor": 2
}
