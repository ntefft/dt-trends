{
 "cells": [
  {
   "cell_type": "markdown",
   "metadata": {},
   "source": [
    "# Graphing the bias when equal mixing fails to hold\n",
    "\n",
    "This notebook uses functions to simulate the distribution of one- and two-vehicle crashes under different assumptions about driver behavior, including:\n",
    "1. The relative risk of a drinking driving causing a fatal two-vehicle crash (theta);\n",
    "1. The relative risk of a drinking driving causing a fatal one-vehicle crash (lambda);\n",
    "1. The probability of two drinking-drivers interacting in excess of their share of road users;\n",
    "1. The relative ability of non-drinking drivers to evade potentially fatal errors committed by other road users.\n",
    "1. The true prevalence of drinking (BAC>0) and legally-impaired (BAC>.08) driving equals the observed prevalence in the National Roadside Survey.\n",
    "\n",
    "Using the generated distribution, prevalence is estimated assuming drivers:\n",
    "1. Obey equal and independent mixing; \n",
    "1. Fatal crashes arise when one driver makes an error;\n",
    "1. All driver types have the same probability of evading a fatal crash when the other driver has committed a potentially fatal error.\n",
    "\n",
    "<p> These are assumptions in the baseline Levitt and Porter (2001) approach and imply the crash distribution follows the multinomial distribution. \n",
    "    \n",
    "<p>Estimates of prevalence under different values of the excess interaction probability are calculated at the observed NRS estimates and plotted. These plots include the excess interaction probability that would be necessary to reconcile the prevelances estimates reported in Dunn and Tefft (AMAR, forthcoming) based on the LP approach assuming the NRS estimates were unbiased.\n",
    "    \n",
    "\n",
    "<p><b>Run All Cells</b> to generate an interactive widget at the bottom of the notebook."
   ]
  },
  {
   "cell_type": "markdown",
   "metadata": {},
   "source": [
    "## Set preliminaries"
   ]
  },
  {
   "cell_type": "code",
   "execution_count": 1,
   "metadata": {
    "jupyter": {
     "source_hidden": true
    },
    "tags": []
   },
   "outputs": [],
   "source": [
    "# Import modules\n",
    "\n",
    "import numpy as np\n",
    "import pandas as pd\n",
    "import matplotlib.pyplot as plt\n",
    "\n",
    "from ipywidgets import interact, interactive, fixed, interact_manual\n",
    "import ipywidgets as widgets\n",
    "\n",
    "# Define underlying parameters for simulation\n",
    "\n",
    "drivers=100000\n",
    "theta_ref=.000001\n",
    "evade_ref=.1\n",
    "\n",
    "style = {'description_width': 'initial'}"
   ]
  },
  {
   "cell_type": "markdown",
   "metadata": {},
   "source": [
    "## Function that constructs crash distribution and estimates parameters from multinomial distribution"
   ]
  },
  {
   "cell_type": "code",
   "execution_count": 2,
   "metadata": {
    "jupyter": {
     "source_hidden": true
    },
    "tags": []
   },
   "outputs": [],
   "source": [
    "def multinom_estimator(p, x, m, theta, evade_drink):\n",
    "    \n",
    "    ## convert percentage to decimal\n",
    "    P=p/100\n",
    "    X=x/100\n",
    "    mix=m/100\n",
    "    \n",
    "    ## Number of drivers and ratio\n",
    "    N_ref=drivers*(1-P-X)\n",
    "    N_drink=drivers*P\n",
    "    N=N_drink/N_ref\n",
    "\n",
    "    ## Risk of a drinking driver causing a two-vehicle crash\n",
    "    theta_drink=theta_ref*theta\n",
    "\n",
    "    ## Risk of causing a single-vehicle crash\n",
    "    lamb=theta\n",
    "    lambda_ref=theta_ref\n",
    "    lambda_drink=theta_drink\n",
    "\n",
    "    # Calculate fatal error probability conditional on an interaction and crash distribution\n",
    "\n",
    "    f_dd=2*(1-evade_drink)*theta_drink\n",
    "    f_ds=(1-evade_drink)*theta_drink+(1-evade_ref)*theta_ref\n",
    "    f_ss=2*(1-evade_ref)*theta_ref\n",
    "    \n",
    "\n",
    "    ## Assumes that every driver has 2 interactions with every other driver\n",
    "\n",
    "    A_dd=N_drink*(N_drink*f_dd*(1+mix))\n",
    "    A_ss=N_ref*(N_ref*f_ss)\n",
    "    A_ds=2*N_ref*N_drink*f_ds\n",
    "\n",
    "    \n",
    "\n",
    "    # Calculate parameters of mulinomial and solve for theta\n",
    "\n",
    "    R=A_ds*A_ds/(A_dd*A_ss)\n",
    "\n",
    "    theta_hat=((R-2) + np.sqrt(R*R - 4*R))/2\n",
    "    N_hat = np.sqrt((A_dd/A_ss)/theta_hat)\n",
    "    P_hat = (N_hat/(1+N_hat))*(1-X)\n",
    "\n",
    "    return P_hat"
   ]
  },
  {
   "cell_type": "markdown",
   "metadata": {},
   "source": [
    "## Function that calls estimation and plots estimated prevalence as equal mixing changes"
   ]
  },
  {
   "cell_type": "code",
   "execution_count": 3,
   "metadata": {
    "jupyter": {
     "source_hidden": true
    },
    "tags": []
   },
   "outputs": [],
   "source": [
    "def pi(impaired='Drinking',  mix_max=200, evade_drink=.1, theta=10):\n",
    "    \n",
    "    mix_array=np.arange(0,mix_max/100,.01)\n",
    "\n",
    "    if impaired=='Drinking':\n",
    "        # Get estimates from multinomial function given prevalence from NRS\n",
    "\n",
    "        estimates_2007=np.array([multinom_estimator(12.4,0, mix, theta, evade_drink) for mix in np.arange(0,mix_max)])\n",
    "        estimates_2013=np.array([multinom_estimator(8.3,0, mix, theta, evade_drink) for mix in np.arange(0,mix_max)])\n",
    "\n",
    "        # Find index where estimates equal LP estimates\n",
    "\n",
    "        idx_2007=np.argmin(np.abs(estimates_2007-.143))\n",
    "        idx_2013=np.argmin(np.abs(estimates_2013-.15))\n",
    "\n",
    "        fig, ax = plt.subplots()\n",
    "\n",
    "        line_2007=ax.plot(mix_array, estimates_2007, label='2007: NRS prevalence=' + str(12.4)+'%')\n",
    "        line_2013=ax.plot(mix_array, estimates_2013, label='2013: NRS prevalence=' + str(8.3)+'%')\n",
    "\n",
    "        ax.set(xlabel='Excess probability of two drinking-drivers interacting', ylabel='Estimated prevalence',\n",
    "               title='Bias in LP estimates')\n",
    "        ax.grid()\n",
    "        ax.legend()\n",
    "\n",
    "\n",
    "        plt.text(mix_array[idx_2007],.143, str(100*mix_array[idx_2007])+'%',horizontalalignment='right')\n",
    "        plt.text(mix_array[idx_2013],.15, str(100*mix_array[idx_2013])+'%',horizontalalignment='right')\n",
    "\n",
    "    else:\n",
    "        # Get estimates from multinomial function given prevalence from NRS\n",
    "\n",
    "        estimates_1996=np.array([multinom_estimator(4.3,16.9-4.3, mix, theta, evade_drink) for mix in np.arange(0,mix_max)])\n",
    "        estimates_2007=np.array([multinom_estimator(2.2,12.4-2.2, mix, theta, evade_drink) for mix in np.arange(0,mix_max)])\n",
    "        estimates_2013=np.array([multinom_estimator(1.5,8.3-1.5, mix, theta, evade_drink) for mix in np.arange(0,mix_max)])\n",
    "\n",
    "        # Find index where estimates equal LP estimates\n",
    "\n",
    "        idx_1996=np.argmin(np.abs(estimates_1996-.104))\n",
    "        idx_2007=np.argmin(np.abs(estimates_2007-.092))\n",
    "        idx_2013=np.argmin(np.abs(estimates_2013-.099))\n",
    "\n",
    "        fig, ax = plt.subplots()\n",
    "\n",
    "        line_1996=ax.plot(mix_array, estimates_1996, label='1996: NRS prevalence=' + str(4.3)+'%')\n",
    "        line_2007=ax.plot(mix_array, estimates_2007, label='2007: NRS prevalence=' + str(2.2)+'%')\n",
    "        line_2013=ax.plot(mix_array, estimates_2013, label='2013: NRS prevalence=' + str(1.5)+'%')\n",
    "\n",
    "        ax.set(xlabel='Excess probability of two legally-impaired drivers interacting', ylabel='Estimated prevalence from LP',\n",
    "               title='Bias in LP estimates')\n",
    "        ax.grid()\n",
    "        ax.legend()\n",
    "\n",
    "        plt.text(mix_array[idx_1996],.104, str(100*mix_array[idx_1996])+'%',horizontalalignment='right')\n",
    "        plt.text(mix_array[idx_2007],.092, str(100*mix_array[idx_2007])+'%',horizontalalignment='right')\n",
    "        plt.text(mix_array[idx_2013],.099, str(100*mix_array[idx_2013])+'%',horizontalalignment='right')\n",
    "\n",
    "        \n",
    "    plt.annotate('Notes: theta='+ str(theta) + '; mu=' +str((1-evade_drink)/(1-evade_ref)), (0,0), (0, -50), xycoords='axes fraction', textcoords='offset points', va='top')\n",
    "\n",
    "    #fig.savefig(\"equal_mixing_drinking.png\")\n",
    "    plt.show()\n",
    "\n",
    "\n",
    "\n"
   ]
  },
  {
   "cell_type": "markdown",
   "metadata": {},
   "source": [
    "## Interactive LP Widget\n",
    "\n",
    "The default considers drinking versus non-drinking drivers.\n",
    "\n",
    "<div class=\"alert alert-block alert-danger\" >\n",
    "    <p font color='black'>&#x25BA; If an error arises as you lower theta, provide a lower maximum excess probability. \n",
    "    <p font color='black'>&#x25BA; If the returned excess probability equals the maximum, increase the maximum.\n",
    "</div>"
   ]
  },
  {
   "cell_type": "code",
   "execution_count": 4,
   "metadata": {
    "jupyter": {
     "outputs_hidden": true,
     "source_hidden": true
    },
    "tags": []
   },
   "outputs": [
    {
     "data": {
      "application/vnd.jupyter.widget-view+json": {
       "model_id": "8b9c5dc8cdae4d7fab4d7e6456e94d46",
       "version_major": 2,
       "version_minor": 0
      },
      "text/plain": [
       "interactive(children=(RadioButtons(description='Driver type:', options=('Drinking', 'Legally impaired'), value…"
      ]
     },
     "metadata": {},
     "output_type": "display_data"
    },
    {
     "data": {
      "text/plain": [
       "<function __main__.pi(impaired='Drinking', mix_max=200, evade_drink=0.1, theta=10)>"
      ]
     },
     "execution_count": 4,
     "metadata": {},
     "output_type": "execute_result"
    }
   ],
   "source": [
    "interact(pi, \n",
    "         evade_drink=fixed(.1),\n",
    "         impaired=widgets.RadioButtons(\n",
    "             options=['Drinking', 'Legally impaired'],value='Drinking',description='Driver type:',disabled=False),\n",
    "         mix_max=widgets.BoundedFloatText(\n",
    "             min=0, max=1000, value=100,description='Maximum excess probability (%): ',disabled=False, style=style),\n",
    "         theta=widgets.FloatSlider(\n",
    "             min=4, max=25, step=.5, value=7)\n",
    "        )"
   ]
  },
  {
   "cell_type": "markdown",
   "metadata": {},
   "source": [
    "## References\n",
    "1. Dunn RA & Tefft NW (2021). Drinking-and-driving in the United States from 1983-2017: comparing survey and model-based estimates of prevalence. <i>Analytic Methods in Accident Research</i>, forthcoming.\n",
    "1. Levitt SD & Porter J (2001). How dangerous are drinking-drivers? <i>Journal of Political Economy</i>, 109(6):1198-1237.\n",
    "1. Ramirez, A, Berning, A., Kelley-Baker, T., Lacey, J. H., Yao, J., Tippetts, A. S., … & Compton, R. (2016, December). 2013–2014 National Roadside Study of Alcohol and Drug Use by Drivers: Alcohol Results (Report No. DOT HS 812 362). Washington, DC: National Highway Traffic Safety Administration."
   ]
  }
 ],
 "metadata": {
  "kernelspec": {
   "display_name": "Python 3",
   "language": "python",
   "name": "python3"
  },
  "language_info": {
   "codemirror_mode": {
    "name": "ipython",
    "version": 3
   },
   "file_extension": ".py",
   "mimetype": "text/x-python",
   "name": "python",
   "nbconvert_exporter": "python",
   "pygments_lexer": "ipython3",
   "version": "3.7.6"
  }
 },
 "nbformat": 4,
 "nbformat_minor": 5
}
